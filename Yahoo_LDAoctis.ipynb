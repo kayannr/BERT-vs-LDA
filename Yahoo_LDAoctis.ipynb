{
 "cells": [
  {
   "cell_type": "markdown",
   "metadata": {
    "id": "V9xYpHlfCLyW"
   },
   "source": [
    "# LDA (Octis) - Yahoo! Answers\n",
    "## ECS271 \n",
    "## Kay Royo\n"
   ]
  },
  {
   "cell_type": "code",
   "execution_count": 1,
   "metadata": {
    "colab": {
     "base_uri": "https://localhost:8080/"
    },
    "id": "zqy-H5NCvmq9",
    "outputId": "fde16016-dc3d-42b0-f496-28690c9eeea5"
   },
   "outputs": [
    {
     "name": "stdout",
     "output_type": "stream",
     "text": [
      "Looking in indexes: https://pypi.org/simple, https://us-python.pkg.dev/colab-wheels/public/simple/\n",
      "Collecting octis\n",
      "  Downloading octis-1.10.4-py2.py3-none-any.whl (129 kB)\n",
      "\u001b[K     |████████████████████████████████| 129 kB 7.8 MB/s \n",
      "\u001b[?25hRequirement already satisfied: torch in /usr/local/lib/python3.8/dist-packages (from octis) (1.12.1+cu113)\n",
      "Requirement already satisfied: numpy>=1.19.1 in /usr/local/lib/python3.8/dist-packages (from octis) (1.21.6)\n",
      "Collecting sentence-transformers\n",
      "  Downloading sentence-transformers-2.2.2.tar.gz (85 kB)\n",
      "\u001b[K     |████████████████████████████████| 85 kB 4.5 MB/s \n",
      "\u001b[?25hCollecting libsvm\n",
      "  Downloading libsvm-3.23.0.4.tar.gz (170 kB)\n",
      "\u001b[K     |████████████████████████████████| 170 kB 45.6 MB/s \n",
      "\u001b[?25hRequirement already satisfied: requests in /usr/local/lib/python3.8/dist-packages (from octis) (2.23.0)\n",
      "Collecting gensim>=4.0.0\n",
      "  Downloading gensim-4.2.0-cp38-cp38-manylinux_2_12_x86_64.manylinux2010_x86_64.whl (24.1 MB)\n",
      "\u001b[K     |████████████████████████████████| 24.1 MB 1.8 MB/s \n",
      "\u001b[?25hCollecting scikit-learn==0.24.2\n",
      "  Downloading scikit_learn-0.24.2-cp38-cp38-manylinux2010_x86_64.whl (24.9 MB)\n",
      "\u001b[K     |████████████████████████████████| 24.9 MB 1.4 MB/s \n",
      "\u001b[?25hRequirement already satisfied: flask in /usr/local/lib/python3.8/dist-packages (from octis) (1.1.4)\n",
      "Requirement already satisfied: spacy in /usr/local/lib/python3.8/dist-packages (from octis) (3.4.3)\n",
      "Collecting tomotopy\n",
      "  Downloading tomotopy-0.12.3-cp38-cp38-manylinux_2_12_x86_64.manylinux2010_x86_64.whl (16.5 MB)\n",
      "\u001b[K     |████████████████████████████████| 16.5 MB 45.4 MB/s \n",
      "\u001b[?25hRequirement already satisfied: nltk in /usr/local/lib/python3.8/dist-packages (from octis) (3.7)\n",
      "Requirement already satisfied: pandas in /usr/local/lib/python3.8/dist-packages (from octis) (1.3.5)\n",
      "Collecting scikit-optimize>=0.8.1\n",
      "  Downloading scikit_optimize-0.9.0-py2.py3-none-any.whl (100 kB)\n",
      "\u001b[K     |████████████████████████████████| 100 kB 9.5 MB/s \n",
      "\u001b[?25hRequirement already satisfied: matplotlib in /usr/local/lib/python3.8/dist-packages (from octis) (3.2.2)\n",
      "Requirement already satisfied: scipy>=0.19.1 in /usr/local/lib/python3.8/dist-packages (from scikit-learn==0.24.2->octis) (1.7.3)\n",
      "Requirement already satisfied: joblib>=0.11 in /usr/local/lib/python3.8/dist-packages (from scikit-learn==0.24.2->octis) (1.2.0)\n",
      "Requirement already satisfied: threadpoolctl>=2.0.0 in /usr/local/lib/python3.8/dist-packages (from scikit-learn==0.24.2->octis) (3.1.0)\n",
      "Requirement already satisfied: smart-open>=1.8.1 in /usr/local/lib/python3.8/dist-packages (from gensim>=4.0.0->octis) (5.2.1)\n",
      "Collecting pyaml>=16.9\n",
      "  Downloading pyaml-21.10.1-py2.py3-none-any.whl (24 kB)\n",
      "Requirement already satisfied: PyYAML in /usr/local/lib/python3.8/dist-packages (from pyaml>=16.9->scikit-optimize>=0.8.1->octis) (6.0)\n",
      "Requirement already satisfied: Werkzeug<2.0,>=0.15 in /usr/local/lib/python3.8/dist-packages (from flask->octis) (1.0.1)\n",
      "Requirement already satisfied: Jinja2<3.0,>=2.10.1 in /usr/local/lib/python3.8/dist-packages (from flask->octis) (2.11.3)\n",
      "Requirement already satisfied: click<8.0,>=5.1 in /usr/local/lib/python3.8/dist-packages (from flask->octis) (7.1.2)\n",
      "Requirement already satisfied: itsdangerous<2.0,>=0.24 in /usr/local/lib/python3.8/dist-packages (from flask->octis) (1.1.0)\n",
      "Requirement already satisfied: MarkupSafe>=0.23 in /usr/local/lib/python3.8/dist-packages (from Jinja2<3.0,>=2.10.1->flask->octis) (2.0.1)\n",
      "Requirement already satisfied: python-dateutil>=2.1 in /usr/local/lib/python3.8/dist-packages (from matplotlib->octis) (2.8.2)\n",
      "Requirement already satisfied: kiwisolver>=1.0.1 in /usr/local/lib/python3.8/dist-packages (from matplotlib->octis) (1.4.4)\n",
      "Requirement already satisfied: pyparsing!=2.0.4,!=2.1.2,!=2.1.6,>=2.0.1 in /usr/local/lib/python3.8/dist-packages (from matplotlib->octis) (3.0.9)\n",
      "Requirement already satisfied: cycler>=0.10 in /usr/local/lib/python3.8/dist-packages (from matplotlib->octis) (0.11.0)\n",
      "Requirement already satisfied: six>=1.5 in /usr/local/lib/python3.8/dist-packages (from python-dateutil>=2.1->matplotlib->octis) (1.15.0)\n",
      "Requirement already satisfied: tqdm in /usr/local/lib/python3.8/dist-packages (from nltk->octis) (4.64.1)\n",
      "Requirement already satisfied: regex>=2021.8.3 in /usr/local/lib/python3.8/dist-packages (from nltk->octis) (2022.6.2)\n",
      "Requirement already satisfied: pytz>=2017.3 in /usr/local/lib/python3.8/dist-packages (from pandas->octis) (2022.6)\n",
      "Requirement already satisfied: certifi>=2017.4.17 in /usr/local/lib/python3.8/dist-packages (from requests->octis) (2022.9.24)\n",
      "Requirement already satisfied: chardet<4,>=3.0.2 in /usr/local/lib/python3.8/dist-packages (from requests->octis) (3.0.4)\n",
      "Requirement already satisfied: urllib3!=1.25.0,!=1.25.1,<1.26,>=1.21.1 in /usr/local/lib/python3.8/dist-packages (from requests->octis) (1.24.3)\n",
      "Requirement already satisfied: idna<3,>=2.5 in /usr/local/lib/python3.8/dist-packages (from requests->octis) (2.10)\n",
      "Collecting transformers<5.0.0,>=4.6.0\n",
      "  Downloading transformers-4.25.1-py3-none-any.whl (5.8 MB)\n",
      "\u001b[K     |████████████████████████████████| 5.8 MB 44.5 MB/s \n",
      "\u001b[?25hRequirement already satisfied: torchvision in /usr/local/lib/python3.8/dist-packages (from sentence-transformers->octis) (0.13.1+cu113)\n",
      "Collecting sentencepiece\n",
      "  Downloading sentencepiece-0.1.97-cp38-cp38-manylinux_2_17_x86_64.manylinux2014_x86_64.whl (1.3 MB)\n",
      "\u001b[K     |████████████████████████████████| 1.3 MB 41.8 MB/s \n",
      "\u001b[?25hCollecting huggingface-hub>=0.4.0\n",
      "  Downloading huggingface_hub-0.11.1-py3-none-any.whl (182 kB)\n",
      "\u001b[K     |████████████████████████████████| 182 kB 63.5 MB/s \n",
      "\u001b[?25hRequirement already satisfied: packaging>=20.9 in /usr/local/lib/python3.8/dist-packages (from huggingface-hub>=0.4.0->sentence-transformers->octis) (21.3)\n",
      "Requirement already satisfied: typing-extensions>=3.7.4.3 in /usr/local/lib/python3.8/dist-packages (from huggingface-hub>=0.4.0->sentence-transformers->octis) (4.1.1)\n",
      "Requirement already satisfied: filelock in /usr/local/lib/python3.8/dist-packages (from huggingface-hub>=0.4.0->sentence-transformers->octis) (3.8.0)\n",
      "Collecting tokenizers!=0.11.3,<0.14,>=0.11.1\n",
      "  Downloading tokenizers-0.13.2-cp38-cp38-manylinux_2_17_x86_64.manylinux2014_x86_64.whl (7.6 MB)\n",
      "\u001b[K     |████████████████████████████████| 7.6 MB 28.2 MB/s \n",
      "\u001b[?25hRequirement already satisfied: thinc<8.2.0,>=8.1.0 in /usr/local/lib/python3.8/dist-packages (from spacy->octis) (8.1.5)\n",
      "Requirement already satisfied: spacy-legacy<3.1.0,>=3.0.10 in /usr/local/lib/python3.8/dist-packages (from spacy->octis) (3.0.10)\n",
      "Requirement already satisfied: setuptools in /usr/local/lib/python3.8/dist-packages (from spacy->octis) (57.4.0)\n",
      "Requirement already satisfied: murmurhash<1.1.0,>=0.28.0 in /usr/local/lib/python3.8/dist-packages (from spacy->octis) (1.0.9)\n",
      "Requirement already satisfied: pydantic!=1.8,!=1.8.1,<1.11.0,>=1.7.4 in /usr/local/lib/python3.8/dist-packages (from spacy->octis) (1.10.2)\n",
      "Requirement already satisfied: cymem<2.1.0,>=2.0.2 in /usr/local/lib/python3.8/dist-packages (from spacy->octis) (2.0.7)\n",
      "Requirement already satisfied: srsly<3.0.0,>=2.4.3 in /usr/local/lib/python3.8/dist-packages (from spacy->octis) (2.4.5)\n",
      "Requirement already satisfied: preshed<3.1.0,>=3.0.2 in /usr/local/lib/python3.8/dist-packages (from spacy->octis) (3.0.8)\n",
      "Requirement already satisfied: langcodes<4.0.0,>=3.2.0 in /usr/local/lib/python3.8/dist-packages (from spacy->octis) (3.3.0)\n",
      "Requirement already satisfied: catalogue<2.1.0,>=2.0.6 in /usr/local/lib/python3.8/dist-packages (from spacy->octis) (2.0.8)\n",
      "Requirement already satisfied: spacy-loggers<2.0.0,>=1.0.0 in /usr/local/lib/python3.8/dist-packages (from spacy->octis) (1.0.3)\n",
      "Requirement already satisfied: wasabi<1.1.0,>=0.9.1 in /usr/local/lib/python3.8/dist-packages (from spacy->octis) (0.10.1)\n",
      "Requirement already satisfied: pathy>=0.3.5 in /usr/local/lib/python3.8/dist-packages (from spacy->octis) (0.9.0)\n",
      "Requirement already satisfied: typer<0.8.0,>=0.3.0 in /usr/local/lib/python3.8/dist-packages (from spacy->octis) (0.7.0)\n",
      "Requirement already satisfied: blis<0.8.0,>=0.7.8 in /usr/local/lib/python3.8/dist-packages (from thinc<8.2.0,>=8.1.0->spacy->octis) (0.7.9)\n",
      "Requirement already satisfied: confection<1.0.0,>=0.0.1 in /usr/local/lib/python3.8/dist-packages (from thinc<8.2.0,>=8.1.0->spacy->octis) (0.0.3)\n",
      "Requirement already satisfied: pillow!=8.3.*,>=5.3.0 in /usr/local/lib/python3.8/dist-packages (from torchvision->sentence-transformers->octis) (7.1.2)\n",
      "Building wheels for collected packages: libsvm, sentence-transformers\n",
      "  Building wheel for libsvm (setup.py) ... \u001b[?25l\u001b[?25hdone\n",
      "  Created wheel for libsvm: filename=libsvm-3.23.0.4-cp38-cp38-linux_x86_64.whl size=233360 sha256=d37beec87fd6c12ef84a200ed2fe670d349ddd00cd3b5678f953b251cbd3166b\n",
      "  Stored in directory: /root/.cache/pip/wheels/41/00/e7/b328c0f5e4bbb9ac8ba5a72e56b1749be63dc1ab1c9321fd4e\n",
      "  Building wheel for sentence-transformers (setup.py) ... \u001b[?25l\u001b[?25hdone\n",
      "  Created wheel for sentence-transformers: filename=sentence_transformers-2.2.2-py3-none-any.whl size=125938 sha256=292a1a9154d9bf25aa636911ea07a082a54ee782764b8cad507e3841a0c74f7d\n",
      "  Stored in directory: /root/.cache/pip/wheels/5e/6f/8c/d88aec621f3f542d26fac0342bef5e693335d125f4e54aeffe\n",
      "Successfully built libsvm sentence-transformers\n",
      "Installing collected packages: tokenizers, huggingface-hub, transformers, sentencepiece, scikit-learn, pyaml, tomotopy, sentence-transformers, scikit-optimize, libsvm, gensim, octis\n",
      "  Attempting uninstall: scikit-learn\n",
      "    Found existing installation: scikit-learn 1.0.2\n",
      "    Uninstalling scikit-learn-1.0.2:\n",
      "      Successfully uninstalled scikit-learn-1.0.2\n",
      "  Attempting uninstall: gensim\n",
      "    Found existing installation: gensim 3.6.0\n",
      "    Uninstalling gensim-3.6.0:\n",
      "      Successfully uninstalled gensim-3.6.0\n",
      "\u001b[31mERROR: pip's dependency resolver does not currently take into account all the packages that are installed. This behaviour is the source of the following dependency conflicts.\n",
      "yellowbrick 1.5 requires scikit-learn>=1.0.0, but you have scikit-learn 0.24.2 which is incompatible.\u001b[0m\n",
      "Successfully installed gensim-4.2.0 huggingface-hub-0.11.1 libsvm-3.23.0.4 octis-1.10.4 pyaml-21.10.1 scikit-learn-0.24.2 scikit-optimize-0.9.0 sentence-transformers-2.2.2 sentencepiece-0.1.97 tokenizers-0.13.2 tomotopy-0.12.3 transformers-4.25.1\n"
     ]
    }
   ],
   "source": [
    "!pip install octis"
   ]
  },
  {
   "cell_type": "code",
   "execution_count": 2,
   "metadata": {
    "id": "4qTCQZ31IfBi"
   },
   "outputs": [],
   "source": [
    "import pandas as pd"
   ]
  },
  {
   "cell_type": "code",
   "execution_count": 3,
   "metadata": {
    "id": "usE_-2mWwaV0"
   },
   "outputs": [],
   "source": [
    "from octis.models.LDA import LDA\n",
    "from sentence_transformers import SentenceTransformer\n",
    "from octis.evaluation_metrics.diversity_metrics import TopicDiversity\n",
    "from octis.evaluation_metrics.coherence_metrics import Coherence\n",
    "from octis.dataset.dataset import Dataset\n",
    "import os\n",
    "import string\n",
    "from octis.preprocessing.preprocessing import Preprocessing\n",
    "os.chdir(os.path.pardir)"
   ]
  },
  {
   "cell_type": "code",
   "execution_count": 4,
   "metadata": {
    "id": "wpVw1uNFILPz"
   },
   "outputs": [],
   "source": [
    "dt = pd.read_csv('../content/yahoo_cleaned_tr.csv')\n",
    "df=list(dt['Text'])\n",
    "lbl=list(dt['Class_Name']) "
   ]
  },
  {
   "cell_type": "code",
   "execution_count": 5,
   "metadata": {
    "id": "RvlTPBEMOzGD"
   },
   "outputs": [],
   "source": [
    "with open('yahoo_class.txt', 'w') as f:\n",
    "    for line in lbl:\n",
    "        f.write(line)\n",
    "        f.write('\\n')"
   ]
  },
  {
   "cell_type": "code",
   "execution_count": 6,
   "metadata": {
    "id": "krK5wCJrKYH4"
   },
   "outputs": [],
   "source": [
    "\n",
    "with open('yahoo_text.txt', 'w') as f:\n",
    "    for line in df:\n",
    "        f.write(line)\n",
    "        f.write('\\n')"
   ]
  },
  {
   "cell_type": "code",
   "execution_count": 7,
   "metadata": {
    "colab": {
     "base_uri": "https://localhost:8080/"
    },
    "id": "0MUP2eAvOhZK",
    "outputId": "91b4723d-295e-4843-c2ab-38ff000c8bdc"
   },
   "outputs": [
    {
     "name": "stdout",
     "output_type": "stream",
     "text": [
      "created vocab\n",
      "91376\n"
     ]
    }
   ],
   "source": [
    "# Initialize preprocessing\n",
    "preprocessor = Preprocessing(vocabulary=None, max_features=None,\n",
    "                             remove_punctuation=True, punctuation=string.punctuation,\n",
    "                             lemmatize=True, stopword_list='english',\n",
    "                             min_chars=1, min_words_docs=0)\n",
    "# preprocess\n",
    "dataset = preprocessor.preprocess_dataset(documents_path=r'../yahoo_text.txt', labels_path=r'../yahoo_class.txt')\n",
    "\n",
    "# save the preprocessed dataset\n",
    "dataset.save('yahoo_dt')"
   ]
  },
  {
   "cell_type": "code",
   "execution_count": 8,
   "metadata": {
    "id": "8sHiqum0Io62"
   },
   "outputs": [],
   "source": [
    "dataset= Dataset()\n",
    "dataset.load_custom_dataset_from_folder(\"../yahoo_dt\")"
   ]
  },
  {
   "cell_type": "code",
   "execution_count": 9,
   "metadata": {
    "id": "netWv7zzwT8C"
   },
   "outputs": [],
   "source": [
    "# Create Model\n",
    "lda_model_oct = LDA(num_topics=10, \n",
    "            passes=4,\n",
    "            random_state=None)"
   ]
  },
  {
   "cell_type": "code",
   "execution_count": 10,
   "metadata": {
    "colab": {
     "base_uri": "https://localhost:8080/"
    },
    "id": "tJ8zah5owghZ",
    "outputId": "0a122e48-1ffa-4ee6-a1ab-3fd42e5ed0fc"
   },
   "outputs": [
    {
     "name": "stdout",
     "output_type": "stream",
     "text": [
      "topic-word-matrix\n",
      "topics\n",
      "topic-document-matrix\n",
      "test-topic-document-matrix\n",
      "CPU times: user 1min 18s, sys: 854 ms, total: 1min 19s\n",
      "Wall time: 1min 19s\n"
     ]
    }
   ],
   "source": [
    "%%time\n",
    "# Train the model using default partitioning choice \n",
    "output = lda_model_oct.train_model(dataset)\n",
    "\n",
    "print(*list(output.keys()), sep=\"\\n\") # Print the output identifiers"
   ]
  },
  {
   "cell_type": "markdown",
   "metadata": {
    "id": "DWaiDLdyC7dn"
   },
   "source": [
    "# Topic diversity"
   ]
  },
  {
   "cell_type": "code",
   "execution_count": 14,
   "metadata": {
    "colab": {
     "base_uri": "https://localhost:8080/"
    },
    "id": "zgg2wVKASHF7",
    "outputId": "c7284ef6-f582-44f8-a66d-c0d6b8d2df55"
   },
   "outputs": [
    {
     "data": {
      "text/plain": [
       "0.9"
      ]
     },
     "execution_count": 14,
     "metadata": {},
     "output_type": "execute_result"
    }
   ],
   "source": [
    "metric = TopicDiversity(topk=10) # Initialize metric\n",
    "topic_diversity_score = metric.score(output) # Compute score of the metric\n",
    "topic_diversity_score"
   ]
  },
  {
   "cell_type": "markdown",
   "metadata": {
    "id": "dLRq5lAAtb5U"
   },
   "source": [
    "# Coherence scores "
   ]
  },
  {
   "cell_type": "code",
   "execution_count": 15,
   "metadata": {
    "colab": {
     "base_uri": "https://localhost:8080/"
    },
    "id": "WKgRhcvoWx9M",
    "outputId": "b0766b60-0818-49a8-8b76-563129da0ce9"
   },
   "outputs": [
    {
     "data": {
      "text/plain": [
       "0.5665267029623002"
      ]
     },
     "execution_count": 15,
     "metadata": {},
     "output_type": "execute_result"
    }
   ],
   "source": [
    "metric = Coherence(measure='c_v') # Initialize metric\n",
    "c_v_score = metric.score(output) # Compute score of the metric\n",
    "c_v_score"
   ]
  },
  {
   "cell_type": "code",
   "execution_count": 16,
   "metadata": {
    "colab": {
     "base_uri": "https://localhost:8080/"
    },
    "id": "4zfXdOpfWx5F",
    "outputId": "b576e513-1351-44f4-c5d2-11fedbb7f61f"
   },
   "outputs": [
    {
     "data": {
      "text/plain": [
       "-2.1768208879082978"
      ]
     },
     "execution_count": 16,
     "metadata": {},
     "output_type": "execute_result"
    }
   ],
   "source": [
    "metric = Coherence(measure='u_mass') # Initialize metric\n",
    "u_mass_score = metric.score(output) # Compute score of the metric\n",
    "u_mass_score"
   ]
  },
  {
   "cell_type": "code",
   "execution_count": 17,
   "metadata": {
    "colab": {
     "base_uri": "https://localhost:8080/"
    },
    "id": "VegrveiCXXf1",
    "outputId": "ae3c1ccb-bd70-4374-dfd2-e0769a052d32"
   },
   "outputs": [
    {
     "data": {
      "text/plain": [
       "0.10755100751453792"
      ]
     },
     "execution_count": 17,
     "metadata": {},
     "output_type": "execute_result"
    }
   ],
   "source": [
    "metric = Coherence(measure='c_uci') # Initialize metric\n",
    "c_uci_score = metric.score(output) # Compute score of the metric\n",
    "c_uci_score"
   ]
  },
  {
   "cell_type": "code",
   "execution_count": 18,
   "metadata": {
    "colab": {
     "base_uri": "https://localhost:8080/"
    },
    "id": "nqlk-NM_XXZq",
    "outputId": "e6134a7e-5f40-4fc0-daad-c506e6bb43e1"
   },
   "outputs": [
    {
     "data": {
      "text/plain": [
       "0.05233463124459341"
      ]
     },
     "execution_count": 18,
     "metadata": {},
     "output_type": "execute_result"
    }
   ],
   "source": [
    "metric = Coherence(measure='c_npmi') # Initialize metric\n",
    "c_npmi_score = metric.score(output) # Compute score of the metric\n",
    "c_npmi_score"
   ]
  }
 ],
 "metadata": {
  "colab": {
   "provenance": []
  },
  "kernelspec": {
   "display_name": "Python 3",
   "language": "python",
   "name": "python3"
  },
  "language_info": {
   "codemirror_mode": {
    "name": "ipython",
    "version": 3
   },
   "file_extension": ".py",
   "mimetype": "text/x-python",
   "name": "python",
   "nbconvert_exporter": "python",
   "pygments_lexer": "ipython3",
   "version": "3.9.13"
  },
  "toc": {
   "base_numbering": 1,
   "nav_menu": {},
   "number_sections": true,
   "sideBar": true,
   "skip_h1_title": false,
   "title_cell": "Table of Contents",
   "title_sidebar": "Contents",
   "toc_cell": false,
   "toc_position": {},
   "toc_section_display": true,
   "toc_window_display": false
  },
  "varInspector": {
   "cols": {
    "lenName": 16,
    "lenType": 16,
    "lenVar": 40
   },
   "kernels_config": {
    "python": {
     "delete_cmd_postfix": "",
     "delete_cmd_prefix": "del ",
     "library": "var_list.py",
     "varRefreshCmd": "print(var_dic_list())"
    },
    "r": {
     "delete_cmd_postfix": ") ",
     "delete_cmd_prefix": "rm(",
     "library": "var_list.r",
     "varRefreshCmd": "cat(var_dic_list()) "
    }
   },
   "types_to_exclude": [
    "module",
    "function",
    "builtin_function_or_method",
    "instance",
    "_Feature"
   ],
   "window_display": false
  }
 },
 "nbformat": 4,
 "nbformat_minor": 1
}
